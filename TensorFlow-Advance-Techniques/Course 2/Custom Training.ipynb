{
 "cells": [
  {
   "cell_type": "markdown",
   "metadata": {
    "colab_type": "text",
    "id": "hrXv0rU9sIma"
   },
   "source": [
    "# Custom Training Basics\n",
    "\n",
    "In this ungraded lab you'll gain a basic understanding of building custom training loops. \n",
    "- It takes you through the underlying logic of fitting any model to a set of inputs and outputs. \n",
    "- You will be training your model on the linear equation for a straight line, wx + b. \n",
    "- You will implement basic linear regression from scratch using gradient tape.\n",
    "- You will try to minimize the loss incurred by the model using linear regression."
   ]
  },
  {
   "cell_type": "markdown",
   "metadata": {
    "colab_type": "text",
    "id": "3LXMVuV0VhDr"
   },
   "source": [
    "## Imports"
   ]
  },
  {
   "cell_type": "code",
   "execution_count": 1,
   "metadata": {
    "colab": {},
    "colab_type": "code",
    "id": "NiolgWMPgpwI"
   },
   "outputs": [],
   "source": [
    "from __future__ import absolute_import, division, print_function, unicode_literals\n",
    "\n",
    "try:\n",
    "  # %tensorflow_version only exists in Colab.\n",
    "  %tensorflow_version 2.x\n",
    "except Exception:\n",
    "    pass\n",
    "\n",
    "\n",
    "import tensorflow as tf\n",
    "import numpy as np\n",
    "import matplotlib.pyplot as plt"
   ]
  },
  {
   "cell_type": "markdown",
   "metadata": {
    "colab_type": "text",
    "id": "K7O6eEGF5DcN"
   },
   "source": [
    "## Define Model\n",
    "\n",
    "You define your model as a class. \n",
    "- `x` is your input tensor. \n",
    "- The model should output values of **wx+b**. \n",
    "- You'll start off by initializing w and b to random values. \n",
    "- During the training process, values of w and b get updated in accordance with linear regression so as to minimize the loss incurred by the model. \n",
    "- Once you arrive at optimal values for w and b, the model would have been trained to correctly predict the values of wx+b.\n",
    "\n",
    "Hence, \n",
    "- **w** and **b** are trainable weights of the model. \n",
    "- **x** is the input\n",
    "- **y** = wx + b is the output"
   ]
  },
  {
   "cell_type": "code",
   "execution_count": 2,
   "metadata": {
    "colab": {},
    "colab_type": "code",
    "id": "_WRu7Pze7wk8"
   },
   "outputs": [],
   "source": [
    "class Model(object):\n",
    "    def __init__(self):\n",
    "    # Initialize the weights to `2.0` and the bias to `1.0`\n",
    "    # In practice, these should be initialized to random values (for example, with `tf.random.normal`)\n",
    "        self.w = tf.Variable(2.0)\n",
    "        self.b = tf.Variable(1.0)\n",
    "\n",
    "    def __call__(self, x):\n",
    "        return self.w * x + self.b\n",
    "\n",
    "model = Model()"
   ]
  },
  {
   "cell_type": "markdown",
   "metadata": {
    "colab_type": "text",
    "id": "xa6j_yXa-j79"
   },
   "source": [
    "### Define a loss function\n",
    "\n",
    "A loss function measures how well the output of a model for a given input matches the target output. \n",
    "- The goal is to minimize this difference during training. \n",
    "- Let's use the standard L2 loss, also known as the least square errors\n",
    "$$Loss = \\sum_{i} \\left (y_{pred}^i - y_{target}^i \\right )^2$$"
   ]
  },
  {
   "cell_type": "code",
   "execution_count": 3,
   "metadata": {
    "colab": {},
    "colab_type": "code",
    "id": "Y0ysUFGY924U"
   },
   "outputs": [],
   "source": [
    "def loss(predicted_y, target_y):\n",
    "    return tf.reduce_mean(tf.square(predicted_y - target_y))"
   ]
  },
  {
   "cell_type": "markdown",
   "metadata": {
    "colab_type": "text",
    "id": "qutT_fkl_CBc"
   },
   "source": [
    "### Obtain training data\n",
    "\n",
    "First, synthesize the training data using the \"true\" w and \"true\" b. \n",
    "\n",
    "$$y = w_{true} \\times x + b_{true} $$"
   ]
  },
  {
   "cell_type": "code",
   "execution_count": 4,
   "metadata": {
    "colab": {},
    "colab_type": "code",
    "id": "gxPTb-kt_N5m"
   },
   "outputs": [
    {
     "data": {
      "text/plain": [
       "<tf.Tensor: shape=(1000,), dtype=float32, numpy=\n",
       "array([-5.40660024e-01,  2.65387088e-01, -5.14973462e-01, -2.68941551e-01,\n",
       "        3.79536860e-02, -1.54219627e+00, -7.48754978e-01,  1.19500995e+00,\n",
       "        6.28871858e-01, -8.51562619e-01,  1.15814555e+00,  1.72901183e-01,\n",
       "       -1.51737130e+00,  3.08549261e+00, -1.31683660e+00,  7.47744024e-01,\n",
       "       -2.30333984e-01, -7.60428667e-01,  7.81242251e-01,  1.18611813e-01,\n",
       "        1.77946198e+00, -3.95109504e-01,  4.38599169e-01,  8.69382441e-01,\n",
       "        1.35842276e+00,  2.23846698e+00, -1.85442591e+00,  1.51629791e-01,\n",
       "       -5.61002254e-01, -4.47258174e-01, -4.15605009e-01,  3.24191511e-01,\n",
       "       -1.17137849e+00,  1.37913489e+00,  1.22008860e+00,  7.62482345e-01,\n",
       "       -1.43903553e+00,  8.29781950e-01,  2.07030272e+00,  2.07505040e-02,\n",
       "       -2.85753655e+00, -7.86486864e-01, -1.41022217e+00,  1.14171147e+00,\n",
       "        3.98022652e-01, -9.54833210e-01, -4.64455187e-01,  1.32747084e-01,\n",
       "        1.27398789e+00,  1.07937723e-01,  9.37671006e-01,  1.00865793e+00,\n",
       "        1.43254846e-01,  1.36099935e+00, -4.33931857e-01,  1.75875556e+00,\n",
       "       -1.11217427e+00, -3.17199603e-02,  4.11878049e-01, -2.28725329e-01,\n",
       "        1.51364303e+00,  2.80281842e-01,  1.48282504e+00, -3.13595831e-02,\n",
       "        1.52061069e+00,  6.51861131e-01, -1.01206112e+00, -1.00440228e+00,\n",
       "        1.08932877e+00,  1.62838066e+00,  8.98335040e-01, -3.05783123e-01,\n",
       "        2.43345019e-03,  2.24420074e-02, -2.69846857e-01,  3.93523186e-01,\n",
       "        2.52010912e-01,  5.93279004e-01,  9.38173294e-01,  9.70252991e-01,\n",
       "       -1.84053385e+00,  3.18402916e-01, -8.26753899e-02,  1.05421984e+00,\n",
       "        2.08090037e-01,  1.56123781e+00,  1.68866832e-02, -4.81968001e-02,\n",
       "       -4.62900043e-01, -3.59931350e-01,  1.14879370e+00,  2.72940063e+00,\n",
       "        3.24519753e-01, -1.40454602e+00,  2.88047910e-01,  2.04122972e+00,\n",
       "        1.30609465e+00,  7.63115063e-02, -1.58871675e+00, -1.15958977e+00,\n",
       "        9.45998430e-01, -1.65245041e-01,  1.08590555e+00, -1.77800179e+00,\n",
       "        3.23016077e-01, -8.62806082e-01, -5.31590991e-02, -7.87612975e-01,\n",
       "        7.66414821e-01, -4.24691081e-01, -2.01223969e+00, -1.09424353e+00,\n",
       "       -1.28368592e+00,  1.62162974e-01,  2.57807136e-01,  7.82715261e-01,\n",
       "        9.61782515e-01,  5.24558187e-01, -4.35310632e-01,  3.39429259e-01,\n",
       "       -4.22904253e-01, -1.00201201e+00, -7.65157416e-02, -1.67321217e+00,\n",
       "       -9.04911518e-01,  1.41553894e-01,  1.13361192e+00,  1.35058451e+00,\n",
       "       -8.09803903e-01, -3.79562408e-01, -1.25823274e-01, -2.35983934e-02,\n",
       "       -4.87453043e-01,  1.59017146e+00,  2.46036816e-02, -1.69790900e+00,\n",
       "       -7.20301270e-01, -2.09073648e-01,  5.06430073e-03, -5.66543758e-01,\n",
       "       -1.36200726e+00,  8.05540085e-01, -3.68078887e-01, -7.29541242e-01,\n",
       "        1.00046527e+00,  8.54559243e-01,  5.08511186e-01,  1.15518916e+00,\n",
       "       -5.82512200e-01,  8.85948181e-01, -2.01315117e+00, -7.39720613e-02,\n",
       "       -4.31788452e-02, -2.22164202e+00, -8.46647471e-02,  8.33098650e-01,\n",
       "        8.71179461e-01, -6.30974233e-01,  2.18989635e+00, -8.34322870e-01,\n",
       "       -2.05215529e-01, -2.77053118e-01, -3.68361175e-01, -2.87542522e-01,\n",
       "       -3.99429321e-01,  5.50028026e-01, -4.62950349e-01, -2.68515617e-01,\n",
       "       -3.19085896e-01, -1.29561281e+00,  1.07840434e-01, -1.01144886e+00,\n",
       "       -1.40752161e+00,  4.69799757e-01, -1.09968400e+00,  1.85024112e-01,\n",
       "        1.25877440e+00, -1.14721704e+00, -7.59797692e-02, -5.55731058e-01,\n",
       "        1.81911433e+00,  1.88335553e-01,  1.78319085e+00, -6.93157673e-01,\n",
       "        1.61153173e+00, -1.86325216e+00,  1.00509000e+00,  1.28042415e-01,\n",
       "        6.98074460e-01, -1.51090175e-01, -1.16299736e+00,  6.25663519e-01,\n",
       "       -4.33046430e-01, -2.39081740e-01,  1.50423145e+00,  2.17469144e+00,\n",
       "       -7.88006723e-01, -1.00868411e-01,  3.11035097e-01, -7.99026251e-01,\n",
       "       -1.12171328e+00, -2.96522975e-01, -8.11265171e-01, -3.83497059e-01,\n",
       "       -9.76476312e-01,  7.09324598e-01,  9.66665447e-01, -2.38035172e-02,\n",
       "       -2.51573610e+00,  4.27108943e-01,  9.41558421e-01,  3.36910903e-01,\n",
       "       -7.15986788e-01,  1.11418462e+00, -1.24293351e+00, -7.92258680e-01,\n",
       "       -3.91011499e-03,  4.69193041e-01, -2.26905987e-01, -5.20805061e-01,\n",
       "        2.20775172e-01, -6.80216029e-02,  2.32179210e-01, -6.05639815e-01,\n",
       "        1.06449413e+00,  1.99817181e-01, -4.32892114e-01,  1.47883189e+00,\n",
       "        2.56260127e-01, -9.73397315e-01, -3.76022935e-01,  3.18892509e-01,\n",
       "       -4.21859026e-01, -8.48049939e-01, -3.24421257e-01,  1.72144079e+00,\n",
       "        5.06088376e-01, -4.58408892e-01,  1.28843367e+00, -1.64774269e-01,\n",
       "        2.34548032e-01, -7.78369725e-01,  4.86440688e-01,  2.07901621e+00,\n",
       "       -1.33022174e-01,  1.38465428e+00,  1.40828490e+00,  3.99061918e-01,\n",
       "       -1.10746241e+00,  2.02826768e-01,  2.28110743e+00, -3.33016723e-01,\n",
       "       -1.34219980e+00,  1.11801755e+00, -9.91061747e-01, -5.66934705e-01,\n",
       "        4.70422119e-01,  4.35951978e-01, -2.99817145e-01, -3.12208951e-01,\n",
       "        4.12970990e-01, -1.00889064e-01, -1.62936485e+00, -8.18510950e-01,\n",
       "        1.68880820e+00, -1.06827177e-01, -2.14183226e-01, -5.41657686e-01,\n",
       "        2.15761733e+00,  2.19109631e+00, -4.04721946e-02, -5.83109140e-01,\n",
       "        5.19940674e-01,  6.38699625e-04,  2.39402711e-01,  8.79834652e-01,\n",
       "        1.18008029e+00, -2.74227411e-01,  8.49156901e-02,  1.02706480e+00,\n",
       "       -6.96039259e-01,  1.54552937e+00,  2.35103413e-01, -1.35172999e+00,\n",
       "       -6.69794381e-01,  1.65307876e-02, -8.42632532e-01,  1.37484670e+00,\n",
       "        1.74231231e+00, -2.13577676e+00,  1.27609706e+00,  4.23801482e-01,\n",
       "        1.35125005e+00,  1.29854873e-01, -2.80826509e-01, -2.04117626e-01,\n",
       "        1.41792941e+00,  1.35427582e+00, -4.81136709e-01, -1.21951139e+00,\n",
       "       -3.49013656e-01,  9.08297241e-01,  2.31742322e-01, -3.17833990e-01,\n",
       "       -5.82215548e-01, -1.01692358e-03,  7.06490278e-01,  5.94876885e-01,\n",
       "        4.08002943e-01, -3.24680895e-01,  9.94736016e-01, -4.93056327e-01,\n",
       "        3.54601890e-01,  1.28314614e+00, -4.07359749e-02,  5.44961035e-01,\n",
       "        1.93375066e-01, -3.43317688e-02, -3.46959293e-01, -1.85056418e-01,\n",
       "       -3.95410985e-01,  7.70367920e-01,  1.13129902e+00, -1.16915846e+00,\n",
       "       -8.88611257e-01, -3.35422486e-01, -5.12376249e-01,  9.53479052e-01,\n",
       "        6.27602816e-01, -8.35456252e-01, -3.21405530e-01,  6.61477864e-01,\n",
       "        7.29070902e-01,  6.26759112e-01,  9.88442063e-01,  4.84187692e-01,\n",
       "        1.36890426e-01, -1.23548758e+00, -1.11174667e+00, -8.45930517e-01,\n",
       "       -1.49146304e-01,  5.91773748e-01, -4.89403248e-01,  8.89168158e-02,\n",
       "        6.10899627e-01,  1.01157323e-01, -1.11530626e+00,  1.04708886e+00,\n",
       "       -4.78062421e-01,  2.46215120e-01, -1.93403587e-01, -6.95828378e-01,\n",
       "       -1.78843260e-01, -9.62978482e-01, -3.95870149e-01, -1.24502078e-01,\n",
       "       -1.93555486e+00, -2.87955612e-01, -4.51878160e-01,  1.98933816e+00,\n",
       "       -2.96603656e+00, -2.81327724e-01, -1.31268239e+00,  6.21390045e-01,\n",
       "        3.23088676e-01,  2.14396477e+00, -8.16084862e-01, -5.21694243e-01,\n",
       "        2.35071450e-01, -3.18931848e-01,  3.72674435e-01, -1.70714223e+00,\n",
       "       -4.08192366e-01,  5.94656765e-02,  1.36153865e+00,  3.32961887e-01,\n",
       "        1.69360745e+00,  4.11667675e-01,  7.53541112e-01,  5.73909879e-01,\n",
       "       -1.07069027e+00, -1.67224073e+00, -2.53590941e-01, -1.99974880e-01,\n",
       "        7.89165795e-01,  1.48087275e+00,  1.20402551e+00, -3.37462038e-01,\n",
       "        4.40264344e-01, -1.61719942e+00, -1.87803793e+00, -8.24850321e-01,\n",
       "       -4.68994558e-01, -4.07292396e-01, -1.25036740e+00,  1.62065876e+00,\n",
       "       -2.19968867e+00, -4.90432411e-01,  1.35415480e-01, -2.22967243e+00,\n",
       "        2.66087443e-01, -8.32381666e-01, -7.48420656e-01, -1.56314421e+00,\n",
       "       -8.58853579e-01,  5.58557697e-02,  1.43211544e+00,  4.94103253e-01,\n",
       "        6.88628197e-01,  3.82052124e-01, -1.64466906e+00,  2.39485726e-01,\n",
       "       -1.15684831e+00,  1.67314753e-01, -1.04561457e-02,  9.31106031e-01,\n",
       "       -7.36297488e-01,  1.02122843e+00,  1.72153279e-01, -2.66742682e+00,\n",
       "       -3.32530260e-01, -2.72289217e-01, -1.04810572e+00,  1.13823497e+00,\n",
       "       -8.27784181e-01,  1.24128413e+00,  1.40203208e-01,  1.06241345e+00,\n",
       "        1.32030332e+00, -1.03029048e+00,  3.81655395e-01, -1.87778875e-01,\n",
       "       -5.92009068e-01, -1.34261858e+00, -3.99233550e-01, -1.87390614e+00,\n",
       "        3.50420684e-01,  2.04168725e+00,  4.44058925e-01,  6.61379635e-01,\n",
       "        1.93221140e+00, -2.87205124e+00,  4.34451550e-01,  1.94539912e-02,\n",
       "       -1.54306114e+00, -3.86178270e-02, -1.03352213e+00, -6.99177802e-01,\n",
       "       -1.63761187e+00,  1.15871511e-01,  9.81770217e-01,  2.27764106e+00,\n",
       "        1.26900542e+00,  1.15062869e+00, -2.58398592e-01,  1.77831364e+00,\n",
       "        4.59136128e-01, -7.66894817e-02, -6.87747896e-01,  1.33858073e+00,\n",
       "        6.15305543e-01,  1.87639093e+00,  2.12678480e+00,  1.14882028e+00,\n",
       "       -1.16344619e+00, -1.32880616e+00, -7.88030267e-01,  1.25727463e+00,\n",
       "        7.15418994e-01, -8.05696428e-01,  7.21979856e-01,  2.74424523e-01,\n",
       "        6.05889499e-01, -1.90189087e+00, -4.63913083e-01, -1.04666853e+00,\n",
       "        5.58898389e-01,  6.98371887e-01,  4.15941589e-02,  3.19148993e+00,\n",
       "        1.32139111e+00, -9.72881258e-01,  8.82722139e-02, -3.16753805e-01,\n",
       "       -7.68831372e-02,  8.82628858e-01,  7.33136714e-01,  2.60551542e-01,\n",
       "        7.91623116e-01, -2.19523335e+00, -1.59122869e-02,  9.66791093e-01,\n",
       "       -7.34444499e-01,  3.01009744e-01,  1.58553839e-01, -1.74044943e+00,\n",
       "        1.36416599e-01,  1.40321434e+00,  6.01612329e-01, -7.82551587e-01,\n",
       "        5.55030346e-01,  6.21694446e-01, -1.03849244e+00,  3.02640915e-01,\n",
       "       -1.16939850e-01,  3.30227643e-01,  4.33581114e-01,  2.39517665e+00,\n",
       "        1.86392009e+00, -2.36664438e+00,  1.97692108e+00, -2.17187613e-01,\n",
       "        9.81933102e-02, -3.79171550e-01, -5.64217031e-01, -1.15055597e+00,\n",
       "       -2.36947551e-01,  1.70506155e+00, -4.39925194e-01,  2.41634473e-01,\n",
       "       -5.94083369e-02, -3.12488829e-03, -1.89929020e+00,  3.37198377e-01,\n",
       "       -1.85231149e-01, -3.17725033e-01,  6.88460708e-01, -4.09774870e-01,\n",
       "       -1.22540402e+00,  2.63231516e+00, -1.20500267e+00, -1.32562494e+00,\n",
       "        1.86471963e+00,  4.57994968e-01,  1.25547659e+00, -1.23159599e+00,\n",
       "        5.69318235e-01,  3.10187608e-01, -7.34285474e-01, -8.49779189e-01,\n",
       "       -2.36843419e+00, -2.11531594e-01,  7.00624213e-02,  3.86024266e-02,\n",
       "       -6.46649599e-01, -6.46175027e-01, -4.37962972e-02, -2.45462254e-01,\n",
       "       -4.38483596e-01,  1.29167175e+00,  1.22676051e+00, -9.35938656e-01,\n",
       "        1.02161038e+00, -9.25296247e-02,  4.69425797e-01,  4.73887742e-01,\n",
       "        4.74412143e-02,  8.43733788e-01,  5.33434050e-03, -1.66985464e+00,\n",
       "        3.62701148e-01,  4.23386037e-01,  5.60280323e-01, -1.59990048e+00,\n",
       "        2.01447129e-01, -1.92786485e-01, -8.53508264e-02, -1.31102467e+00,\n",
       "       -5.17214835e-01,  6.48774862e-01,  1.19876154e-01, -2.96567798e-01,\n",
       "       -8.85381401e-02,  4.93998528e-01,  1.34007788e+00,  2.98887223e-01,\n",
       "        3.70654045e-03,  1.34547397e-01, -4.39682126e-01,  8.84636998e-01,\n",
       "        1.33381510e+00,  1.64818406e+00,  3.12385768e-01, -2.10714054e+00,\n",
       "       -5.08560002e-01,  3.40267062e-01,  8.49689543e-01,  2.14226574e-01,\n",
       "        1.93382829e-01, -2.46049911e-01, -7.84335136e-01,  2.10832858e+00,\n",
       "       -3.62550646e-01,  2.59921640e-01,  6.06387615e-01, -4.64458674e-01,\n",
       "        7.71537274e-02,  3.76683742e-01,  1.90597966e-01,  4.74414796e-01,\n",
       "        3.17227244e-01, -1.29346454e+00, -7.09970474e-01,  2.93525606e-01,\n",
       "        1.40768647e-01,  4.40441608e-01, -8.25321674e-01,  7.86201954e-01,\n",
       "       -1.06141305e+00, -1.63229549e+00, -1.01702595e+00, -2.62993336e-01,\n",
       "       -9.00371671e-01,  1.68380737e-01,  9.79748428e-01, -1.02608405e-01,\n",
       "        1.01268589e+00,  3.70043516e-01, -7.39317119e-01,  7.81283498e-01,\n",
       "       -1.45300120e-01, -9.55237985e-01,  4.01220769e-01, -4.92586195e-01,\n",
       "       -4.47954059e-01,  8.93132836e-02, -2.74138749e-01,  1.78264403e+00,\n",
       "       -4.44817156e-01, -1.91817656e-01,  1.61618435e+00,  1.11718094e+00,\n",
       "       -5.79831064e-01,  1.01857793e+00,  5.30443311e-01,  3.57498765e-01,\n",
       "       -8.85251939e-01, -1.08895910e+00, -2.09941044e-01, -4.09854278e-02,\n",
       "       -6.84849203e-01, -1.28457725e+00, -7.49485672e-01,  1.37006879e+00,\n",
       "       -1.05554178e-01, -1.03384577e-01,  7.75097162e-02,  1.22264445e+00,\n",
       "        1.79388702e+00,  2.82564551e-01,  1.12735176e+00,  5.01195490e-01,\n",
       "        1.66014624e+00, -2.39450669e+00, -4.84443784e-01,  8.70598078e-01,\n",
       "        5.59343398e-01,  2.66443975e-02, -1.26237142e+00, -8.58198404e-01,\n",
       "       -1.61797270e-01, -6.10688746e-01, -8.66648197e-01,  1.68072432e-01,\n",
       "       -1.98064223e-01, -6.38058424e-01,  5.69649100e-01,  1.09451485e+00,\n",
       "        4.90965366e-01,  5.85649014e-01,  6.18773580e-01,  1.37832689e+00,\n",
       "       -8.89737368e-01,  2.61126399e-01,  5.12492895e-01, -6.38616979e-01,\n",
       "       -3.48172218e-01,  5.92746496e-01,  7.57414460e-01, -1.51488173e+00,\n",
       "       -2.19838932e-01,  7.81772733e-01,  1.33431911e-01,  2.20961881e+00,\n",
       "       -5.84586203e-01,  2.78212404e+00, -3.55581637e-03,  8.60828936e-01,\n",
       "        4.15227234e-01,  5.97081304e-01,  1.33193564e+00, -7.67996669e-01,\n",
       "        2.42120743e+00, -2.09331334e-01,  5.72412983e-02,  4.62861657e-01,\n",
       "       -1.97595153e-02, -9.40748394e-01, -3.76465410e-01, -7.30068564e-01,\n",
       "       -1.97020614e+00, -1.44457865e+00,  1.69827795e+00,  8.05089712e-01,\n",
       "        1.28777587e+00,  1.83552548e-01,  5.97607732e-01, -4.77117211e-01,\n",
       "        2.12879515e+00, -2.55107093e+00, -1.33705473e+00,  7.38829613e-01,\n",
       "        2.01626611e+00, -3.43565881e-01,  6.61043167e-01,  2.14500532e-01,\n",
       "       -8.77551675e-01,  1.82155049e+00,  1.01281083e+00,  9.29021299e-01,\n",
       "        8.67155015e-01, -1.30907440e+00, -4.28533167e-01, -3.19366008e-01,\n",
       "        3.36603969e-01,  9.63047922e-01, -8.31628203e-01, -3.75512362e-01,\n",
       "        9.94170725e-01,  1.82683003e+00, -6.95212781e-01,  9.27065432e-01,\n",
       "       -8.90773177e-01,  9.05762136e-01, -1.01183259e+00, -1.87369302e-01,\n",
       "        6.34700000e-01,  4.08951379e-02, -4.24732983e-01, -2.78479699e-02,\n",
       "       -1.40230656e+00, -1.65098691e+00,  1.37966347e+00,  3.35507822e+00,\n",
       "       -3.42084557e-01,  1.54952502e+00, -8.32542181e-01, -2.83244818e-01,\n",
       "       -1.71492529e+00,  1.60216081e+00, -7.43636072e-01, -4.60566312e-01,\n",
       "       -9.26161945e-01, -5.38564682e-01,  4.58447635e-01,  1.05837131e+00,\n",
       "       -4.50672120e-01, -8.86028111e-02,  1.32404220e+00, -4.08450395e-01,\n",
       "        1.08865164e-01, -1.17303443e+00,  2.21909904e+00, -1.61920920e-01,\n",
       "        4.86709744e-01, -1.51364398e+00, -1.57215998e-01,  2.06599146e-01,\n",
       "        4.42716777e-01,  1.21561706e+00, -2.21539453e-01,  4.69054759e-01,\n",
       "        2.03416988e-01,  4.08207253e-02, -8.96260500e-01,  8.22811544e-01,\n",
       "       -1.52758852e-01,  4.89320010e-01,  9.11989689e-01, -1.15984797e+00,\n",
       "       -2.00645733e+00, -3.34324092e-01,  8.92480195e-01, -9.56354558e-01,\n",
       "       -2.14418903e-01,  1.08478415e+00, -6.67930007e-01, -1.12771034e+00,\n",
       "        5.49537361e-01,  2.87171423e-01,  1.61974013e+00,  1.14019978e+00,\n",
       "       -1.00755715e+00, -5.57364523e-02, -9.08398688e-01, -3.61265987e-01,\n",
       "       -1.01104450e+00,  1.15725681e-01,  2.10894048e-01, -4.99490470e-01,\n",
       "       -2.00342849e-01, -1.31847024e+00, -1.66807473e+00, -5.08288205e-01,\n",
       "       -2.34781712e-01, -1.69172442e+00,  6.39312625e-01,  1.23952448e-01,\n",
       "       -1.11262846e+00,  9.60307289e-03, -1.81484687e+00,  2.63078243e-01,\n",
       "       -6.19851053e-01,  7.96023130e-01,  7.07107723e-01, -1.36354845e-02,\n",
       "        7.97239721e-01,  7.52311274e-02, -1.00929844e+00,  6.63753271e-01,\n",
       "       -4.99182671e-01,  1.01799512e+00, -6.04015887e-01, -3.58858705e-02,\n",
       "       -8.56209934e-01,  1.23362744e+00,  4.14315760e-01, -3.70386481e-01,\n",
       "        2.06170392e+00, -1.61119789e-01,  4.62371826e-01,  2.43703619e-01,\n",
       "       -3.42529476e-01, -2.36043096e-01,  1.54711568e+00, -1.18244219e+00,\n",
       "       -4.20454174e-01, -1.41576040e+00, -4.91271853e-01,  1.64346957e+00,\n",
       "       -7.46132195e-01, -1.04259217e+00, -3.72470707e-01, -1.08551753e+00,\n",
       "       -8.73107195e-01,  8.20750892e-01, -2.14531831e-02, -4.22645390e-01,\n",
       "       -3.76015157e-01,  1.17216718e+00, -1.18149674e+00,  5.06698847e-01,\n",
       "       -1.76619184e+00, -6.58828855e-01,  1.11021626e+00,  9.15083755e-03,\n",
       "       -1.72096825e+00, -9.81750667e-01, -2.44424418e-01,  1.76349032e+00,\n",
       "        1.75801861e+00,  9.50053692e-01, -4.73987222e-01,  8.39917064e-01,\n",
       "       -9.49051321e-01, -1.42911172e+00, -8.08749497e-01, -1.02976836e-01,\n",
       "        5.54890931e-01, -6.24374390e-01, -4.56137687e-01, -1.43870905e-01,\n",
       "        3.55029739e-02,  2.54548460e-01, -1.26386836e-01, -9.14212406e-01,\n",
       "        1.06916702e+00,  4.43793625e-01, -3.12488347e-01,  2.72591561e-01,\n",
       "        5.34893751e-01,  6.27048492e-01,  5.95796049e-01,  1.24605834e+00,\n",
       "        1.42494857e+00,  8.98345470e-01, -1.03845406e+00, -2.93038577e-01,\n",
       "        3.09560746e-01, -8.52417946e-02,  2.63475180e-01,  8.13580334e-01,\n",
       "        8.81616294e-01,  2.09238291e-01,  7.31686354e-01, -5.08384168e-01,\n",
       "       -1.24384649e-01, -3.51273045e-02, -1.85927391e+00, -6.97978497e-01,\n",
       "       -3.84381384e-01, -8.78862977e-01, -3.87395397e-02,  1.28398609e+00,\n",
       "        1.86098599e+00, -1.30319691e+00, -9.81043875e-01, -1.10233164e+00,\n",
       "       -3.57211500e-01,  2.47452706e-01,  1.60495117e-01,  1.45582235e+00,\n",
       "       -2.08587632e-01,  6.02158606e-01, -3.95407319e-01,  1.24412715e+00,\n",
       "        1.31112009e-01, -5.18601954e-01, -1.59051931e+00,  1.16541600e+00,\n",
       "        6.58366084e-02,  1.28549218e+00,  1.92601159e-01,  4.57620084e-01,\n",
       "       -3.12214285e-01, -7.31807649e-01,  1.04971755e+00,  2.46149898e-01,\n",
       "        1.00243890e+00,  1.23921382e+00, -1.00768244e+00,  6.88638031e-01,\n",
       "       -7.32493341e-01, -7.83335328e-01, -7.32747495e-01,  3.91589820e-01,\n",
       "        6.84011579e-01, -1.23921180e+00, -6.37128532e-01,  1.39628685e+00,\n",
       "       -2.31815904e-01, -1.10015213e+00, -4.00039017e-01, -9.35184956e-01,\n",
       "        1.42013311e-01, -1.01529829e-01,  9.24272895e-01,  3.38849932e-01,\n",
       "       -2.22274709e+00, -7.66926765e-01, -1.06128812e-01, -5.51282406e-01,\n",
       "        1.51398197e-01, -1.45575166e-01,  1.09310901e+00,  4.86935169e-01,\n",
       "        6.01411104e-01,  7.82126129e-01, -5.94361782e-01, -3.68187189e-01,\n",
       "        1.52937818e+00,  1.52194786e+00,  3.42755497e-01,  4.69655186e-01,\n",
       "        1.93689060e+00,  1.95298865e-01,  5.52686036e-01,  6.28511608e-01,\n",
       "       -1.91674411e+00, -6.68597758e-01,  2.84101311e-02, -3.78966868e-01,\n",
       "        1.82415807e+00,  1.70356095e+00, -8.69280100e-01,  8.42303097e-01,\n",
       "       -1.90133786e+00, -1.67546320e+00,  8.79924059e-01, -1.00122082e+00,\n",
       "       -6.64056063e-01,  5.01018703e-01, -5.95033765e-01,  1.01683706e-01,\n",
       "        7.23384380e-01,  1.12227595e+00,  6.27722502e-01, -4.94845331e-01,\n",
       "        6.97496712e-01, -5.47714889e-01,  6.09812796e-01, -4.38763589e-01,\n",
       "       -1.13516200e+00, -4.63928074e-01,  4.64185923e-01,  2.18111545e-01,\n",
       "       -1.18401635e+00,  1.54322469e+00, -5.60883462e-01,  9.10515964e-01],\n",
       "      dtype=float32)>"
      ]
     },
     "execution_count": 4,
     "metadata": {},
     "output_type": "execute_result"
    }
   ],
   "source": [
    "TRUE_w = 3.0\n",
    "TRUE_b = 2.0\n",
    "NUM_EXAMPLES = 1000\n",
    "\n",
    "xs  = tf.random.normal(shape=[NUM_EXAMPLES])\n",
    "\n",
    "ys = (TRUE_w * xs) + TRUE_b\n",
    "\n",
    "xs"
   ]
  },
  {
   "cell_type": "markdown",
   "metadata": {
    "colab_type": "text",
    "id": "-50nq-wPBsAW"
   },
   "source": [
    "Before training the model, visualize the loss value by plotting the model's predictions in red crosses and the training data in blue dots:"
   ]
  },
  {
   "cell_type": "code",
   "execution_count": 5,
   "metadata": {
    "colab": {},
    "colab_type": "code",
    "id": "_eb83LtrB4nt"
   },
   "outputs": [],
   "source": [
    "def plot_data(inputs, outputs, predicted_outputs):\n",
    "    real = plt.scatter(inputs, outputs, c='b', marker='.')\n",
    "    predicted = plt.scatter(inputs, predicted_outputs, c='r', marker='+')\n",
    "    plt.legend((real,predicted), ('Real Data', 'Predicted Data'))\n",
    "    plt.show()"
   ]
  },
  {
   "cell_type": "code",
   "execution_count": 6,
   "metadata": {
    "colab": {},
    "colab_type": "code",
    "id": "XL25a_aEOuim"
   },
   "outputs": [
    {
     "data": {
      "image/png": "[encoded data removed]",
      "text/plain": [
       "<Figure size 432x288 with 1 Axes>"
      ]
     },
     "metadata": {
      "needs_background": "light"
     },
     "output_type": "display_data"
    },
    {
     "name": "stdout",
     "output_type": "stream",
     "text": [
      "Current loss: 2.054975\n"
     ]
    }
   ],
   "source": [
    "plot_data(xs, ys, model(xs))\n",
    "print('Current loss: %1.6f' % loss(model(xs), ys).numpy())"
   ]
  },
  {
   "cell_type": "markdown",
   "metadata": {
    "colab_type": "text",
    "id": "sSDP-yeq_4jE"
   },
   "source": [
    "\n",
    "\n",
    "### Define a training loop\n",
    "\n",
    "With the network and training data, train the model using [gradient descent](https://en.wikipedia.org/wiki/Gradient_descent) \n",
    "- Gradient descent updates the trainable weights **w** and **b** to reduce the loss. \n",
    "\n",
    "\n",
    "There are many variants of the gradient descent scheme that are captured in `tf.train.Optimizer`—our recommended implementation. In the spirit of building from first principles, here you will implement the basic math yourself.\n",
    "- You'll use `tf.GradientTape` for automatic differentiation\n",
    "- Use `tf.assign_sub` for decrementing a value.  Note that assign_sub combines `tf.assign` and `tf.sub`"
   ]
  },
  {
   "cell_type": "code",
   "execution_count": 7,
   "metadata": {
    "colab": {},
    "colab_type": "code",
    "id": "MBIACgdnA55X"
   },
   "outputs": [],
   "source": [
    "def train(model, inputs, outputs, learning_rate):\n",
    "    with tf.GradientTape() as t:\n",
    "        current_loss = loss(model(inputs), outputs)\n",
    "    dw, db = t.gradient(current_loss, [model.w, model.b])\n",
    "    model.w.assign_sub(learning_rate * dw)\n",
    "    model.b.assign_sub(learning_rate * db)\n",
    "\n",
    "    return current_loss"
   ]
  },
  {
   "cell_type": "markdown",
   "metadata": {
    "colab_type": "text",
    "id": "RwWPaJryD2aN"
   },
   "source": [
    "Finally, you can iteratively run through the training data and see how `w` and `b` evolve."
   ]
  },
  {
   "cell_type": "code",
   "execution_count": 8,
   "metadata": {
    "colab": {},
    "colab_type": "code",
    "id": "XdfkR223D9dW"
   },
   "outputs": [
    {
     "name": "stdout",
     "output_type": "stream",
     "text": [
      "Epoch  0: w=2.00 b=1.00, loss=2.05497\n",
      "Epoch  1: w=2.20 b=1.21, loss=1.29704\n",
      "Epoch  2: w=2.36 b=1.37, loss=0.81870\n",
      "Epoch  3: w=2.49 b=1.50, loss=0.51680\n",
      "Epoch  4: w=2.60 b=1.61, loss=0.32624\n",
      "Epoch  5: w=2.68 b=1.69, loss=0.20596\n",
      "Epoch  6: w=2.74 b=1.75, loss=0.13004\n",
      "Epoch  7: w=2.79 b=1.81, loss=0.08210\n",
      "Epoch  8: w=2.84 b=1.85, loss=0.05184\n",
      "Epoch  9: w=2.87 b=1.88, loss=0.03274\n",
      "Epoch 10: w=2.90 b=1.90, loss=0.02068\n",
      "Epoch 11: w=2.92 b=1.92, loss=0.01306\n",
      "Epoch 12: w=2.93 b=1.94, loss=0.00825\n",
      "Epoch 13: w=2.95 b=1.95, loss=0.00521\n",
      "Epoch 14: w=2.96 b=1.96, loss=0.00329\n"
     ]
    }
   ],
   "source": [
    "model = Model()\n",
    "\n",
    "# Collect the history of W-values and b-values to plot later\n",
    "list_w, list_b = [], []\n",
    "epochs = range(15)\n",
    "losses = []\n",
    "for epoch in epochs:\n",
    "    list_w.append(model.w.numpy())\n",
    "    list_b.append(model.b.numpy())\n",
    "    current_loss = train(model, xs, ys, learning_rate=0.1)\n",
    "    losses.append(current_loss)\n",
    "    print('Epoch %2d: w=%1.2f b=%1.2f, loss=%2.5f' %\n",
    "        (epoch, list_w[-1], list_b[-1], current_loss))"
   ]
  },
  {
   "cell_type": "markdown",
   "metadata": {
    "colab_type": "text",
    "id": "EI_1PwOBR6TW"
   },
   "source": [
    "In addition to the values for losses, you also plot the progression of trainable variables over epochs."
   ]
  },
  {
   "cell_type": "code",
   "execution_count": 9,
   "metadata": {
    "colab": {},
    "colab_type": "code",
    "id": "q8gJThOCNXAp"
   },
   "outputs": [
    {
     "data": {
      "image/png": "[encoded data removed]",
      "text/plain": [
       "<Figure size 432x288 with 1 Axes>"
      ]
     },
     "metadata": {
      "needs_background": "light"
     },
     "output_type": "display_data"
    }
   ],
   "source": [
    "plt.plot(epochs, list_w, 'r',\n",
    "       epochs, list_b, 'b')\n",
    "plt.plot([TRUE_w] * len(epochs), 'r--',\n",
    "      [TRUE_b] * len(epochs), 'b--')\n",
    "plt.legend(['w', 'b', 'True w', 'True b'])\n",
    "plt.show()"
   ]
  },
  {
   "cell_type": "markdown",
   "metadata": {
    "colab_type": "text",
    "id": "QsTbG9J2MM9W"
   },
   "source": [
    "## Plots for Evaluation\n",
    "Now you can plot the actual outputs in red and the model's predictions in blue on a set of random test examples.\n",
    "\n",
    "You can see that the model is able to make predictions on the test set fairly accurately."
   ]
  },
  {
   "cell_type": "code",
   "execution_count": 10,
   "metadata": {
    "colab": {},
    "colab_type": "code",
    "id": "YRHpHCJ3273d"
   },
   "outputs": [
    {
     "data": {
      "image/png": "[encoded data removed]",
      "text/plain": [
       "<Figure size 432x288 with 1 Axes>"
      ]
     },
     "metadata": {
      "needs_background": "light"
     },
     "output_type": "display_data"
    }
   ],
   "source": [
    "test_inputs  = tf.random.normal(shape=[NUM_EXAMPLES])\n",
    "test_outputs = test_inputs * TRUE_w + TRUE_b\n",
    "\n",
    "predicted_test_outputs = model(test_inputs)\n",
    "plot_data(test_inputs, test_outputs, predicted_test_outputs)"
   ]
  },
  {
   "cell_type": "markdown",
   "metadata": {
    "colab_type": "text",
    "id": "zY-j2FJYSfis"
   },
   "source": [
    "Visualize the cost function against the values of each of the trainable weights the model approximated to over time."
   ]
  },
  {
   "cell_type": "code",
   "execution_count": 11,
   "metadata": {
    "colab": {},
    "colab_type": "code",
    "id": "hY-gQWFfOIu-"
   },
   "outputs": [
    {
     "data": {
      "image/png": "[encoded data removed]",
      "text/plain": [
       "<Figure size 432x288 with 2 Axes>"
      ]
     },
     "metadata": {
      "needs_background": "light"
     },
     "output_type": "display_data"
    }
   ],
   "source": [
    "def plot_loss_for_weights(weights_list, losses):\n",
    "  for idx, weights in enumerate(weights_list):\n",
    "    plt.subplot(120 + idx + 1)\n",
    "    plt.plot(weights['values'], losses, 'r')\n",
    "    plt.plot(weights['values'], losses, 'bo')\n",
    "    plt.xlabel(weights['name'])\n",
    "    plt.ylabel('Loss')\n",
    "    \n",
    "    \n",
    "weights_list = [{ 'name' : \"w\",\n",
    "                  'values' : list_w\n",
    "                },\n",
    "                {\n",
    "                  'name' : \"b\",\n",
    "                  'values' : list_b\n",
    "                }]\n",
    "\n",
    "plot_loss_for_weights(weights_list, losses)"
   ]
  },
  {
   "cell_type": "code",
   "execution_count": null,
   "metadata": {},
   "outputs": [],
   "source": []
  }
 ],
 "metadata": {
  "colab": {
   "collapsed_sections": [],
   "include_colab_link": true,
   "name": "Training Basics.ipynb",
   "private_outputs": true,
   "provenance": []
  },
  "kernelspec": {
   "display_name": "Python 3",
   "language": "python",
   "name": "python3"
  },
  "language_info": {
   "codemirror_mode": {
    "name": "ipython",
    "version": 3
   },
   "file_extension": ".py",
   "mimetype": "text/x-python",
   "name": "python",
   "nbconvert_exporter": "python",
   "pygments_lexer": "ipython3",
   "version": "3.7.6"
  }
 },
 "nbformat": 4,
 "nbformat_minor": 4
}
